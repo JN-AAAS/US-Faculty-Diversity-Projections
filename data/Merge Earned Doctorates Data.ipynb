{
 "cells": [
  {
   "attachments": {},
   "cell_type": "markdown",
   "metadata": {},
   "source": [
    "# Merge NSF Survey of Earned Doctorates Spreadsheets\n",
    "J. Nathan Matias\n",
    "\n",
    "Last updated Feb 5, 2022\n",
    "\n",
    "* Asian Includes Native Hawaiians or Other Pacific Islanders through 2000, but excludes them since 2001.\n",
    "* Before 2001, \"Other race or race not reported\" included respondents who selected more than one race. Since 2001, this category has included Native Hawaiians or Other Pacific Islanders, who previously had been included in the category Asian.\n",
    "* Life Sciences Includes agricultural sciences and natural resources; biological and biomedical sciences; and health sciences.\n",
    "* Field (Other) Includes other non-science and engineering fields not shown separately\n",
    "* All groups other than \"Hispanic or Latino\" are classified as \"Not Hispanic or Latino\""
   ]
  },
  {
   "cell_type": "code",
   "execution_count": 120,
   "metadata": {},
   "outputs": [],
   "source": [
    "from openpyxl import load_workbook\n",
    "import pandas as pd\n",
    "from collections import defaultdict, Counter\n",
    "import datetime"
   ]
  },
  {
   "cell_type": "code",
   "execution_count": 121,
   "metadata": {},
   "outputs": [],
   "source": [
    "data_path = \"/Users/nathan/Box/Projects/\"\n",
    "nsed_path = \"2021-NSF-Survey-Earned-Doctorates/\"\n",
    "\n",
    "year_filenames = {\n",
    "    \"2016\": \"tab23-2016.xlsx\",\n",
    "    \"2017\": \"sed17-sr-tab023-2017.xlsx\",\n",
    "    \"2018\": \"nsf20301-tab023-2018.xlsx\",\n",
    "    \"2019\": \"nsf21308-tab023-2019.xlsx\",\n",
    "    \"2020\": \"nsf22300-tab023-2020.xlsx\"  \n",
    "}\n",
    "\n",
    "fields = [\"All fields\",\n",
    "          \"Life sciencesc\", \n",
    "          \"Physical sciences and earth sciences\", \n",
    "          \"Mathematics and computer sciences\",\n",
    "          \"Psychology and social sciences\",\n",
    "          \"Engineering\",\n",
    "          \"Education\",\n",
    "          \"Humanities and arts\",\n",
    "          \"Otherd\"]"
   ]
  },
  {
   "cell_type": "markdown",
   "metadata": {},
   "source": [
    "### Utility method for generating year rows from the NSF Earned Doctorates Workbook"
   ]
  },
  {
   "cell_type": "code",
   "execution_count": 123,
   "metadata": {},
   "outputs": [],
   "source": [
    "def generate_year_rows(wb):\n",
    "\n",
    "    counter = 0\n",
    "\n",
    "    # dict with the index as key\n",
    "    # and the column name as the value\n",
    "    colnames = {}\n",
    "\n",
    "    ## data structure for storing records:\n",
    "    ## one row per field + group + year\n",
    "    ## field, group, year, count\n",
    "    records = []\n",
    "\n",
    "    field = None\n",
    "    group = None\n",
    "\n",
    "\n",
    "    for row in wb.worksheets[0].values:\n",
    "        # the first three rows are labels\n",
    "        if(counter<3): \n",
    "            counter += 1\n",
    "            continue\n",
    "\n",
    "        ## the end of the sequence\n",
    "        if(row[0] is None):\n",
    "            break\n",
    "\n",
    "        ## header row\n",
    "        if(counter==3):\n",
    "            i = 0\n",
    "            for colname in row:\n",
    "                if colname is None:\n",
    "                    continue\n",
    "                colnames[i] = colname\n",
    "                i += 1\n",
    "            counter += 1\n",
    "            continue\n",
    "            \n",
    "        ## skip rows labeled \"Not Hispanic or Latino\"\n",
    "        if row[0].strip() == \"Not Hispanic or Latino\":\n",
    "            counter += 1\n",
    "            continue\n",
    "\n",
    "        if row[0] in fields:\n",
    "            group = \"Total\"\n",
    "            field = row[0].strip()\n",
    "        else:\n",
    "            group = row[0].strip()\n",
    "\n",
    "        ## add record\n",
    "        for i in range(1, len(colnames)):\n",
    "            year = colnames[i]\n",
    "            records.append({\n",
    "                \"field\": field,\n",
    "                \"group\": group,\n",
    "                \"year\" : int(year),\n",
    "                \"count\": row[i]\n",
    "            })\n",
    "\n",
    "        counter += 1\n",
    "    return records"
   ]
  },
  {
   "cell_type": "code",
   "execution_count": 124,
   "metadata": {},
   "outputs": [
    {
     "name": "stdout",
     "output_type": "stream",
     "text": [
      "tab23-2016.xlsx\n",
      "sed17-sr-tab023-2017.xlsx\n",
      "nsf20301-tab023-2018.xlsx\n",
      "nsf21308-tab023-2019.xlsx\n"
     ]
    },
    {
     "name": "stderr",
     "output_type": "stream",
     "text": [
      "/usr/local/lib/python3.9/site-packages/openpyxl/styles/stylesheet.py:226: UserWarning: Workbook contains no default style, apply openpyxl's default\n",
      "  warn(\"Workbook contains no default style, apply openpyxl's default\")\n"
     ]
    },
    {
     "name": "stdout",
     "output_type": "stream",
     "text": [
      "nsf22300-tab023-2020.xlsx\n"
     ]
    }
   ],
   "source": [
    "all_records = []\n",
    "\n",
    "for year_filename in year_filenames.values():\n",
    "    print(year_filename)\n",
    "    wb = load_workbook(data_path + nsed_path + year_filename)\n",
    "    all_records += generate_year_rows(wb)"
   ]
  },
  {
   "cell_type": "markdown",
   "metadata": {},
   "source": [
    "# Write Output to file"
   ]
  },
  {
   "cell_type": "code",
   "execution_count": 125,
   "metadata": {},
   "outputs": [],
   "source": [
    "min_year = str(min([x['year'] for x in all_records]))\n",
    "max_year = str(max([x['year'] for x in all_records]))\n",
    "timestamp_str = datetime.datetime.now().strftime(\"%Y%m%d\")\n",
    "pd.DataFrame(all_records).to_csv(data_path + nsed_path + \"nsf_earned_doctorate_race_ethnicity_years_\" +\n",
    "                                 min_year + \"-\" + max_year + \"_\" + timestamp_str + \".csv\")"
   ]
  },
  {
   "cell_type": "code",
   "execution_count": null,
   "metadata": {},
   "outputs": [],
   "source": []
  }
 ],
 "metadata": {
  "kernelspec": {
   "display_name": "Python 3",
   "language": "python",
   "name": "python3"
  },
  "language_info": {
   "codemirror_mode": {
    "name": "ipython",
    "version": 3
   },
   "file_extension": ".py",
   "mimetype": "text/x-python",
   "name": "python",
   "nbconvert_exporter": "python",
   "pygments_lexer": "ipython3",
   "version": "3.9.5"
  }
 },
 "nbformat": 4,
 "nbformat_minor": 4
}
