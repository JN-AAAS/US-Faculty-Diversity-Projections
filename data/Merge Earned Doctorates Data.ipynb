{
 "cells": [
  {
   "attachments": {},
   "cell_type": "markdown",
   "metadata": {},
   "source": [
    "# Merge NSF Survey of Earned Doctorates Spreadsheets\n",
    "J. Nathan Matias\n",
    "\n",
    "Last updated Feb 5, 2022\n",
    "\n",
    "This dataset includes citizens and permanent residents\n",
    "\n",
    "* Asian Includes Native Hawaiians or Other Pacific Islanders through 2000, but excludes them since 2001.\n",
    "* Before 2001, \"Other race or race not reported\" included respondents who selected more than one race. Since 2001, this category has included Native Hawaiians or Other Pacific Islanders, who previously had been included in the category Asian.\n",
    "* Life Sciences Includes agricultural sciences and natural resources; biological and biomedical sciences; and health sciences.\n",
    "* Field (Other) Includes other non-science and engineering fields not shown separately\n",
    "* All groups other than \"Hispanic or Latino\" are classified as \"Not Hispanic or Latino\""
   ]
  },
  {
   "cell_type": "code",
   "execution_count": 184,
   "metadata": {},
   "outputs": [],
   "source": [
    "from openpyxl import load_workbook\n",
    "import pandas as pd\n",
    "from collections import defaultdict, Counter\n",
    "import datetime"
   ]
  },
  {
   "cell_type": "code",
   "execution_count": 185,
   "metadata": {},
   "outputs": [],
   "source": [
    "data_path = \"/Users/nathan/Box/Projects/\"\n",
    "nsed_path = \"2021-NSF-Survey-Earned-Doctorates/\"\n",
    "\n",
    "year_filenames = {\n",
    "    \"2016\": \"tab23-2016.xlsx\",\n",
    "    \"2017\": \"sed17-sr-tab023-2017.xlsx\",\n",
    "    \"2018\": \"nsf20301-tab023-2018.xlsx\",\n",
    "    \"2019\": \"nsf21308-tab023-2019.xlsx\",\n",
    "    \"2020\": \"nsf22300-tab023-2020.xlsx\"  \n",
    "}\n",
    "\n",
    "fields = [\"All fields\",\n",
    "          \"Life sciencesc\", \n",
    "          \"Physical sciences and earth sciences\", \n",
    "          \"Mathematics and computer sciences\",\n",
    "          \"Psychology and social sciences\",\n",
    "          \"Engineering\",\n",
    "          \"Education\",\n",
    "          \"Humanities and arts\",\n",
    "          \"Otherd\"]"
   ]
  },
  {
   "cell_type": "markdown",
   "metadata": {},
   "source": [
    "### Utility method for generating year rows from the NSF Earned Doctorates Workbook"
   ]
  },
  {
   "cell_type": "code",
   "execution_count": 186,
   "metadata": {},
   "outputs": [],
   "source": [
    "def generate_year_rows(wb):\n",
    "\n",
    "    counter = 0\n",
    "\n",
    "    # dict with the index as key\n",
    "    # and the column name as the value\n",
    "    colnames = {}\n",
    "\n",
    "    ## data structure for storing records:\n",
    "    ## one row per field + group + year\n",
    "    ## field, group, year, count\n",
    "    records = []\n",
    "\n",
    "    field = None\n",
    "    group = None\n",
    "\n",
    "\n",
    "    for row in wb.worksheets[0].values:\n",
    "        # the first three rows are labels\n",
    "        if(counter<3): \n",
    "            counter += 1\n",
    "            continue\n",
    "\n",
    "        ## the end of the sequence\n",
    "        if(row[0] is None):\n",
    "            break\n",
    "\n",
    "        ## header row\n",
    "        if(counter==3):\n",
    "            i = 0\n",
    "            for colname in row:\n",
    "                if colname is None:\n",
    "                    continue\n",
    "                colnames[i] = colname\n",
    "                i += 1\n",
    "            counter += 1\n",
    "            continue\n",
    "            \n",
    "        ## skip rows labeled \"Not Hispanic or Latino\"\n",
    "        if row[0].strip() == \"Not Hispanic or Latino\":\n",
    "            counter += 1\n",
    "            continue\n",
    "\n",
    "        if row[0].strip() in fields:\n",
    "            group = \"Total\"\n",
    "            field = row[0].strip()\n",
    "        else:\n",
    "            group = row[0].strip()\n",
    "\n",
    "        ## add record\n",
    "        for i in range(1, len(colnames)):\n",
    "            year = colnames[i]\n",
    "            records.append({\n",
    "                \"field\": field,\n",
    "                \"group\": group,\n",
    "                \"year\" : int(year),\n",
    "                \"count\": row[i]\n",
    "            })\n",
    "\n",
    "        counter += 1\n",
    "    return records"
   ]
  },
  {
   "cell_type": "code",
   "execution_count": 187,
   "metadata": {},
   "outputs": [
    {
     "name": "stdout",
     "output_type": "stream",
     "text": [
      "tab23-2016.xlsx\n",
      "sed17-sr-tab023-2017.xlsx\n",
      "nsf20301-tab023-2018.xlsx\n",
      "nsf21308-tab023-2019.xlsx\n",
      "nsf22300-tab023-2020.xlsx\n"
     ]
    }
   ],
   "source": [
    "all_records = []\n",
    "\n",
    "for year_filename in year_filenames.values():\n",
    "    print(year_filename)\n",
    "    wb = load_workbook(data_path + nsed_path + year_filename)\n",
    "    all_records += generate_year_rows(wb)"
   ]
  },
  {
   "cell_type": "markdown",
   "metadata": {},
   "source": [
    "# Validate Records (TODO)\n",
    "* Field-level records should add up to the \"All Fields\" count for each group (done)\n",
    "* Totals should add up for each group"
   ]
  },
  {
   "cell_type": "code",
   "execution_count": 193,
   "metadata": {},
   "outputs": [],
   "source": [
    "all_groups = list(set([x['group'] for x in all_records]))\n",
    "all_fields = list(set([x['field'] for x in all_records]))\n",
    "all_years = list(set([x['year'] for x in all_records]))\n",
    "#all_fields\n",
    "#all_records[0]\n",
    "\n",
    "for year in all_years:\n",
    "#    print(year)\n",
    "    for group in all_groups:\n",
    "        all_fields_total = [x for x in all_records \n",
    "                            if x['group'] == group\n",
    "                            and x['field'] == \"All fields\"\n",
    "                            and x['year'] == year][0]['count']\n",
    "        if(all_fields_total==\"na\"):\n",
    "            all_fields_total = 0\n",
    "        \n",
    "        field_record_total = 0\n",
    "        for field_record in [x for x in all_records if \n",
    "                          x['field']!=\"All fields\"\n",
    "                          and x['group'] == group\n",
    "                          and x['year'] == year and x['count']!='na']:\n",
    "            field_record_total += field_record['count']\n",
    "        \n",
    "        if(field_record_total!=all_fields_total):\n",
    "            print(\"{0} {1}: {2} != {3}\".format(group, year, all_fields_total, field_record_total))\n",
    "        assert(field_record_total == all_fields_total)"
   ]
  },
  {
   "cell_type": "code",
   "execution_count": 190,
   "metadata": {},
   "outputs": [],
   "source": [
    "# [x for x in all_records if x['year']==2000 and x['group']==\"Hispanic or Latino\" and x['field']==\"Mathematics and computer sciences\"]\n",
    "# [x for x in all_records if x['year']==2000 and x['group']==\"Hispanic or Latino\"]"
   ]
  },
  {
   "cell_type": "markdown",
   "metadata": {},
   "source": [
    "# Write Output to file"
   ]
  },
  {
   "cell_type": "code",
   "execution_count": 191,
   "metadata": {},
   "outputs": [],
   "source": [
    "min_year = str(min([x['year'] for x in all_records]))\n",
    "max_year = str(max([x['year'] for x in all_records]))\n",
    "timestamp_str = datetime.datetime.now().strftime(\"%Y%m%d\")\n",
    "pd.DataFrame(all_records).to_csv(data_path + nsed_path + \"nsf_earned_doctorate_race_ethnicity_years_\" +\n",
    "                                 min_year + \"-\" + max_year + \"_\" + timestamp_str + \".csv\")"
   ]
  },
  {
   "cell_type": "code",
   "execution_count": null,
   "metadata": {},
   "outputs": [],
   "source": []
  }
 ],
 "metadata": {
  "kernelspec": {
   "display_name": "Python 3",
   "language": "python",
   "name": "python3"
  },
  "language_info": {
   "codemirror_mode": {
    "name": "ipython",
    "version": 3
   },
   "file_extension": ".py",
   "mimetype": "text/x-python",
   "name": "python",
   "nbconvert_exporter": "python",
   "pygments_lexer": "ipython3",
   "version": "3.9.5"
  }
 },
 "nbformat": 4,
 "nbformat_minor": 4
}
