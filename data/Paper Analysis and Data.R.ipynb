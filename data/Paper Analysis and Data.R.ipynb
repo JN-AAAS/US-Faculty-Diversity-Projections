{
 "cells": [
  {
   "cell_type": "markdown",
   "metadata": {},
   "source": [
    "# Paper Analysis and Data\n",
    "Author A, Author B.\n",
    "\n",
    "Links:\n",
    "* Experiment Plan\n",
    "* Data Format Description\n",
    "* Lab Notebook\n"
   ]
  },
  {
   "cell_type": "code",
   "execution_count": 1,
   "metadata": {},
   "outputs": [],
   "source": [
    "example.variable <- \"Hello, I am example variable\""
   ]
  },
  {
   "cell_type": "code",
   "execution_count": null,
   "metadata": {},
   "outputs": [],
   "source": [
    "save(list=ls(), file=\"paper-data.RData\", version = 2) # overleaf uses R 3.4 which requires version 2 of Rdata I believe"
   ]
  }
 ],
 "metadata": {
  "kernelspec": {
   "display_name": "R",
   "language": "R",
   "name": "ir"
  },
  "language_info": {
   "codemirror_mode": "r",
   "file_extension": ".r",
   "mimetype": "text/x-r-source",
   "name": "R",
   "pygments_lexer": "r",
   "version": "3.6.3"
  }
 },
 "nbformat": 4,
 "nbformat_minor": 2
}
